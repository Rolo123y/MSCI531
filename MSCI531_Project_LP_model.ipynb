{
 "cells": [
  {
   "cell_type": "markdown",
   "metadata": {},
   "source": [
    "### MSCI 531 Project\n",
    "\n",
    "This linear program implementation refers to the paper \"__optimal ordering policies for a perishable and substututable product: A Markov decision model__\" by Mahmut Parlar."
   ]
  },
  {
   "cell_type": "code",
   "execution_count": null,
   "metadata": {},
   "outputs": [],
   "source": [
    "import numpy as np\n",
    "from scipy.stats import binom\n",
    "import random as rd\n",
    "import gurobipy as gp\n",
    "from gurobipy import GRB"
   ]
  },
  {
   "cell_type": "code",
   "execution_count": null,
   "metadata": {},
   "outputs": [],
   "source": [
    "# Constants\n",
    "s_0 = 10 # sale price of opo items\n",
    "s_1 = 16 # sale price of new items s_1 > s_0\n",
    "pi_0 = 0.5 #\n",
    "pi_1 = 0.8 #\n",
    "c = 8 # cost to order a unit\n",
    "a_01 = 0.4 # probability a customer will accept a new items when opo is out of stock\n",
    "a_10 = 0.7 # probability a customer will accept opo items when new items are out of stock\n",
    "M = 7 # Number of periods to go till\n",
    "K = 7 # maximum number of new items that can be ordered\n",
    "\n",
    "# demands of opo items\n",
    "d_0 = [binom.pmf(i,K,pi_0) for i in range(0,K+1)]\n",
    "\n",
    "# demands of new items\n",
    "d_1 = [binom.pmf(i,K,pi_1) for i in range(0,K+1)]"
   ]
  },
  {
   "cell_type": "code",
   "execution_count": null,
   "metadata": {},
   "outputs": [],
   "source": [
    "# Rewards Z(i,k)\n",
    "\n",
    "def profit(q_t,Q_t:int):\n",
    "    # region 1\n",
    "    r1 = s_1*sum(i*d_1[i] for i in range(0,Q_t+1)) + s_1*sum(Q_t*d_1[i] for i in range(Q_t+1,K+1)) - c*Q_t\n",
    "    \n",
    "    # region 2\n",
    "    r2 = sum(sum(s_0*min(a_10*(y-Q_t),q_t-x)*d_0[x]*d_1[y] for x in range(0,q_t+1)) for y in range(Q_t+1,K+1))\n",
    "    \n",
    "    # region 3\n",
    "    r3 = sum(sum(s_1*min(a_01*(x-q_t),Q_t-y)*d_0[x]*d_1[y] for x in range(q_t+1,K+1)) for y in range(0,Q_t+1))\n",
    "    \n",
    "    #region 4\n",
    "    r4 = s_0*M*pi_0 - s_0*sum(x*d_0[x] for x in range(q_t+1,K+1)) + s_0*q_t*(1-sum(d_0[i] for i in range(0,q_t+1)))\n",
    "    \n",
    "    return r1+r2+r3+r4"
   ]
  },
  {
   "cell_type": "code",
   "execution_count": null,
   "metadata": {},
   "outputs": [],
   "source": [
    "# Probabilities Pij(k)\n",
    "\n",
    "# P(X=x, Y=y)\n",
    "pxy = {}\n",
    "for x in range(0,K+1):\n",
    "    for y in range(0,K+1):\n",
    "        pxy[x,y] = binom.pmf(x,K,pi_0) * binom.pmf(y,K,pi_1)\n",
    "\n",
    "def prob(i,j,k):\n",
    "    # if the cell in pxy array equals to value v, then add it to the total probability\n",
    "    final_Prob = 0\n",
    "    for x in range(0,K+1):\n",
    "        for y in range(0,K+1):\n",
    "            v = k-y-max(0,a_01*(x-i))\n",
    "            if(v == j):\n",
    "                final_Prob = final_Prob + pxy[x,y]\n",
    "            else:\n",
    "                continue;\n",
    "                \n",
    "    return final_Prob"
   ]
  },
  {
   "cell_type": "code",
   "execution_count": null,
   "metadata": {},
   "outputs": [],
   "source": [
    "model = gp.Model('531 Project')"
   ]
  },
  {
   "cell_type": "code",
   "execution_count": null,
   "metadata": {},
   "outputs": [],
   "source": [
    "Zik = {}\n",
    "for i in range(0,K+1):\n",
    "    for k in range(0,K+1):\n",
    "            Zik[i,k] = profit(i,k)\n",
    "\n",
    "Pijk = {}\n",
    "period = 0\n",
    "for i in range(0,K+1):\n",
    "    for j in range(0,K+1):\n",
    "        for k in range(0,K+1):\n",
    "            Pijk[i,j,k] = prob(i,j,k)\n",
    "    period = period + 1\n",
    "\n",
    "# Decision variable\n",
    "Yik = {}\n",
    "for i in range(0,K+1):\n",
    "    for k in range(0,K+1):\n",
    "        Yik[i,k] = model.addVar(vtype=GRB.CONTINUOUS, lb=0.0, ub=1.0, name='Y'+str(i)+str(k))\n",
    "                "
   ]
  },
  {
   "cell_type": "code",
   "execution_count": null,
   "metadata": {},
   "outputs": [],
   "source": [
    "# Constraints\n",
    "\n",
    "# probabilities must equal to 1\n",
    "model.addConstr(sum(sum(Yik[i,k] for k in range(0,K+1)) for i in range(0,M+1)) == 1)\n",
    "\n",
    "# \n",
    "for j in range(0,M):\n",
    "     model.addConstr((sum(Yik[j,k] for k in range(0,K+1))-sum(sum(Yik[i,k]*Pijk[i,j,k] for k in range(0,K+1)) for i in range(0,M+1)) == 0))"
   ]
  },
  {
   "cell_type": "code",
   "execution_count": null,
   "metadata": {},
   "outputs": [],
   "source": [
    "obj = sum(sum(Zik[i,k]*Yik[i,k] for k in range(0,K)) for i in range(0,K))\n",
    "model.setObjective(obj, GRB.MAXIMIZE)\n",
    "\n",
    "# Run optimization engine\n",
    "model.optimize()"
   ]
  },
  {
   "cell_type": "code",
   "execution_count": null,
   "metadata": {},
   "outputs": [],
   "source": [
    "decisions = []\n",
    "        \n",
    "sum=0 \n",
    "for v in model.getVars():\n",
    "    if(v.x > 0):\n",
    "        decisions.append([v.varName,v.x])\n",
    "    sum = sum + v.x\n",
    "print('Obj: %g' % model.objVal)\n",
    "\n",
    "for i in range(0,len(decisions)):\n",
    "    print(f'{decisions[i][0]} -> {decisions[i][1]}')"
   ]
  }
 ],
 "metadata": {
  "kernelspec": {
   "display_name": "Python 3",
   "language": "python",
   "name": "python3"
  },
  "language_info": {
   "codemirror_mode": {
    "name": "ipython",
    "version": 3
   },
   "file_extension": ".py",
   "mimetype": "text/x-python",
   "name": "python",
   "nbconvert_exporter": "python",
   "pygments_lexer": "ipython3",
   "version": "3.8.3"
  }
 },
 "nbformat": 4,
 "nbformat_minor": 4
}
